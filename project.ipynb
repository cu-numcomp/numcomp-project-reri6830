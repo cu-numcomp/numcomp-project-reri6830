{
 "cells": [
  {
   "cell_type": "markdown",
   "metadata": {},
   "source": [
    "# Project: **Name of method** in **name of software**\n",
    "\n",
    "This notebook is a blank slate for you to write in.  Feel free to include figures (don't forget to add/commit them to your repository) and examples.  You can change the kernel (from `Python 3`; see upper right) if the open source project you're writing about does not use Python.  You can write from the prompts below or delete all the cells and start fresh.  Note that Git will always contain your history.\n",
    "\n",
    "You can run shell commands:"
   ]
  },
  {
   "cell_type": "code",
   "execution_count": 1,
   "metadata": {},
   "outputs": [
    {
     "name": "stdout",
     "output_type": "stream",
     "text": [
      "Requirement already satisfied: equadratures in /opt/conda/lib/python3.7/site-packages (8.1.1)\n",
      "Requirement already satisfied: matplotlib in /opt/conda/lib/python3.7/site-packages (from equadratures) (3.1.1)\n",
      "Requirement already satisfied: numpy in /opt/conda/lib/python3.7/site-packages (from equadratures) (1.18.1)\n",
      "Requirement already satisfied: scipy>=0.15.0 in /opt/conda/lib/python3.7/site-packages (from equadratures) (1.3.1)\n",
      "Requirement already satisfied: cycler>=0.10 in /opt/conda/lib/python3.7/site-packages (from matplotlib->equadratures) (0.10.0)\n",
      "Requirement already satisfied: python-dateutil>=2.1 in /opt/conda/lib/python3.7/site-packages (from matplotlib->equadratures) (2.8.1)\n",
      "Requirement already satisfied: kiwisolver>=1.0.1 in /opt/conda/lib/python3.7/site-packages (from matplotlib->equadratures) (1.1.0)\n",
      "Requirement already satisfied: pyparsing!=2.0.4,!=2.1.2,!=2.1.6,>=2.0.1 in /opt/conda/lib/python3.7/site-packages (from matplotlib->equadratures) (2.4.6)\n",
      "Requirement already satisfied: six in /opt/conda/lib/python3.7/site-packages (from cycler>=0.10->matplotlib->equadratures) (1.14.0)\n",
      "Requirement already satisfied: setuptools in /opt/conda/lib/python3.7/site-packages (from kiwisolver>=1.0.1->matplotlib->equadratures) (45.2.0.post20200209)\n"
     ]
    }
   ],
   "source": [
    "! pip install equadratures"
   ]
  },
  {
   "cell_type": "markdown",
   "metadata": {},
   "source": [
    "\n",
    "This repository includes many things that we have covered in the course but mainly I wanted to investigte the Polynomial Regression section and their building block classes. The below code snippets and code cells are directly for the repositiry linked here: \n",
    "* https://effective-quadratures.github.io/_documentation/poly.html\n",
    "* https://effective-quadratures.github.io/_documentation/parameter.html\n",
    "\n",
    "\n",
    "## Parameter Class\n",
    "This handles the information with the independent variable\n",
    "\n",
    "Parameter(order, distribution, endpoints=None, shape_parameter_A=None, shape_parameter_B=None, lower=None, upper=None, data=None)\n",
    "\n",
    "```c\n",
    "# uniform parameter.\n",
    "param = Parameter(distribution='uniform', lower=-2, upper=2., order=3)\n",
    "\n",
    "# beta parameter\n",
    "param = Parameter(distribution='beta', lower=-2., upper=15., order=4, shape_parameter_A=3.2, shape_parameter_B=1.7)\n",
    "```\n",
    "\n",
    "\n",
    "## Polyreg Class\n",
    "This is the one that actually generates the curve using the information from the parameter\n",
    "\n",
    "Poly(parameters, basis, method=None, sampling_args=None, solver_args=None)\n",
    "\n",
    "```c\n",
    "# Subsampling from a tensor grid\n",
    "param = Parameter(distribution='uniform', lower=-1., upper=1., order=3)\n",
    "basis = Basis('total order')\n",
    "poly = Poly(parameters=[param, param], basis=basis, method='least-squares' , sampling_args={'mesh':'tensor-grid', 'subsampling-algorithm':'svd', 'sampling-ratio':1.0})\n",
    "\n",
    "# User-defined data with compressive sensing\n",
    "X = np.loadtxt('inputs.txt')\n",
    "y = np.loadtxt('outputs.txt')\n",
    "param = Parameter(distribution='uniform', lower=-1., upper=1., order=3)\n",
    "basis = Basis('total order')\n",
    "poly = Poly([param, param], basis, method='compressive-sensing', sampling_args={'sample-points':X_red, 'sample-outputs':Y_red})\n",
    "\n",
    "# Using a sparse grid\n",
    "param = Parameter(distribution='uniform', lower=-1., upper=1., order=3)\n",
    "basis = Basis('sparse-grid', level=7, growth_rule='exponential')\n",
    "poly = Poly(parameters=[param, param], basis=basis, method='numerical-integration')\n",
    "```\n",
    "\n",
    "\n",
    "\n",
    "## Note\n",
    "\n",
    "It should be noted that we do use the basis class for the index set that is used which in this case is univariate (one type of data). \n",
    "\n",
    "You can see both of these implemeted in the code being used below.\n",
    "\n",
    "Code snippets and code cells below\n",
    "\n"
   ]
  },
  {
   "cell_type": "code",
   "execution_count": 11,
   "metadata": {},
   "outputs": [
    {
     "data": {
      "text/plain": [
       "(array([-10.,   0.,  10.,  20.,  30.,  40.,  50.,  60.,  70.,  80.]),\n",
       " <a list of 10 Text yticklabel objects>)"
      ]
     },
     "execution_count": 11,
     "metadata": {},
     "output_type": "execute_result"
    },
    {
     "data": {
      "image/png": "[encoded data removed]",
      "text/plain": [
       "<Figure size 432x288 with 1 Axes>"
      ]
     },
     "metadata": {
      "needs_background": "light"
     },
     "output_type": "display_data"
    }
   ],
   "source": [
    "from equadratures import *\n",
    "import numpy as np\n",
    "\n",
    "dimensions = 1\n",
    "M = 12\n",
    "param = Parameter(distribution='Uniform', lower=0, upper=1., order=1)\n",
    "myParameters = [param for i in range(dimensions)] # one-line for loop for parameters\n",
    "x_train = np.mat([0,0.0714,0.1429,0.2857,0.3571,0.4286,0.5714,0.6429,0.7143,0.7857,0.9286,1.0000], dtype='float64')\n",
    "y_train = np.mat([6.8053,-1.5184,1.6416,6.3543,14.3442,16.4426,18.1953,28.9913,27.2246,40.3759,55.3726,72.0], dtype='float64')\n",
    "x_train = np.reshape(x_train, (M, 1))\n",
    "y_train = np.reshape(y_train, (M, 1))\n",
    "\n",
    "myBasis = Basis('Univariate')\n",
    "param = Parameter(distribution='Uniform', lower=0, upper=1., order=2)\n",
    "myParameters = [param for i in range(dimensions)] # one-line for loop for parameters\n",
    "poly = Poly(myParameters, myBasis, method='least-squares', sampling_args={'sample-points':x_train, 'sample-outputs':y_train} )\n",
    "\n",
    "poly.set_model()\n",
    "N = 100\n",
    "x_test = np.reshape(np.linspace(0, 1, N), (N, 1) )\n",
    "\n",
    "      # Plot the results\n",
    "fig = plt.figure()\n",
    "ax = fig.add_subplot(1,1,1)\n",
    "for i in range(0, M):\n",
    "  plt.scatter(x_train[i,0], y_train[i,0], marker='o', s=80, color='tomato')\n",
    "plt.plot(x_test, poly.get_polyfit(x_test), 'k-')\n",
    "plt.xlabel('$X$', fontsize=13)\n",
    "plt.ylabel('$Y$', fontsize=13)\n",
    "plt.xticks(fontsize=13)\n",
    "plt.yticks(fontsize=13)"
   ]
  },
  {
   "cell_type": "markdown",
   "metadata": {},
   "source": [
    "## About the method\n",
    "\n",
    "This method above is a much more simplistic way than doing things with chebyshev and QR factorization. With this method it also allows us to use other callable functions like get_poly_grad and get_poly_hess. \n",
    "\n",
    "\n",
    "![](https://ctjqsa.dm.files.1drv.com/y4mqWRdtMGKIdqOBj4rjr6g1fzjtEkoYhBlcssii2T9OS3bRhw1SkcNeRYqEPbVEWk_1MkXc5-WedVsfXeVAq8dvN-LF5PoG5LUqQ-P3PoyGFl3kkVWl91Q3fQT25wb7fqVyU3Sopsalxxy5cFNTs1CD_CFdZWGzk2atFA_ZjT_MTePdlnf46ndiRRHj-dHLDG21QNbBTwVSDT8QZawOLohVg?width=741&height=512&cropmode=none)\n",
    "\n",
    "\n",
    "\n",
    "## About the software\n",
    "\n",
    "Full repository linked here: https://github.com/Effective-Quadratures/Effective-Quadratures\n",
    "\n",
    "In a nutshell the Effective Quadratures is a library for uncertainty quantification, machine learning, optimisation, numerical integration, and dimension reduction (all using orthogonal polynomials). Specifically these methods are used for outputs with continuous and smooth quantities. Some of the code objectives include probability distrbitions, regression observed machine learning, and sensitivity analysis. \n",
    "\n",
    "It mentions that this is an open source platform and is being developed by researchers from univeristies like Univeristy of Cambridge, Stanford, and even The Alan Turing Institute. The code has build passing badge and has 1,371 commits. The language is in python and does require some dependencies like numpy, scipy, and matplotlib. \n",
    "\n",
    "I think this notebook has relation to this class and what we have learned so far with regression, hessian models, and integration which is to be learned. But, I think it is specified more towards work practice(to be expected because it is for actual work use) which can sometimes be out of the scope of this class - for example many of the models in this repository are for fluid dynamics and one specifically for turbomachinery.\n",
    "\n",
    "\n",
    "### Open questions\n",
    "\n",
    "* This is a more complicated piece of polynomial regression that I found interesting: https://effective-quadratures.github.io/_documentation/tutorial_7.html. It is bayesian polynomial regression but couldn't quite understand all of it, I think it could be useul to take a look and see if you can understand. I have posted some of the code below with the output.\n",
    "\n",
    "\n",
    "![](https://dzjqsa.dm.files.1drv.com/y4mtJ5fc8cDYg1iOSM2EKyWmekByv8KTfQ0PnzLDq4DUEmKZO1GajDgZ6kyryocX4nAoUIDz_HKB12oadcOxrzMbCrNSpwp-FGhCZtKMCAEGn08jeE1wyBTzgePxEjvi0ufCm5b5VwrQ7HPaTOcWC1XKZu9Ef_7mhQMueOuzCqJV-NcwUyXtR00xfVexdsXryazTYWGhTbJP3ITsPmH-rjh4A?width=740&height=620&cropmode=none)\n",
    "![](https://bjk10w.dm.files.1drv.com/y4mv6SWJ4hPP_6Ugwg0a3AtmLjEXdSoOCGUZgDpylGVEDSDS62ytuWbKcNGStDLDdQHCrTPhmdXWskLNs5tJSsN8CVd_Feg-5tSTD72vwBIAFkZ_Dvk0hOMRnJoZE2y4sHplMYXXgv5TmeO9Gd2_VSlN-An72vX7TNOvS1W0Iu9gt6IY79ChUkMAqBG07q6S9R_Pn7xKFleLPyMdGl-YpRung?width=698&height=865&cropmode=none)"
   ]
  }
 ],
 "metadata": {
  "kernelspec": {
   "display_name": "Python 3",
   "language": "python",
   "name": "python3"
  },
  "language_info": {
   "codemirror_mode": {
    "name": "ipython",
    "version": 3
   },
   "file_extension": ".py",
   "mimetype": "text/x-python",
   "name": "python",
   "nbconvert_exporter": "python",
   "pygments_lexer": "ipython3",
   "version": "3.7.3"
  }
 },
 "nbformat": 4,
 "nbformat_minor": 4
}
